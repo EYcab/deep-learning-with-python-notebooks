{
 "cells": [
  {
   "cell_type": "code",
   "execution_count": 1,
   "metadata": {},
   "outputs": [
    {
     "name": "stderr",
     "output_type": "stream",
     "text": [
      "Using TensorFlow backend.\n"
     ]
    },
    {
     "data": {
      "text/plain": [
       "'2.0.8'"
      ]
     },
     "execution_count": 1,
     "metadata": {},
     "output_type": "execute_result"
    }
   ],
   "source": [
    "import keras\n",
    "keras.__version__"
   ]
  },
  {
   "cell_type": "markdown",
   "metadata": {},
   "source": [
    "# Overfitting and underfitting\n",
    "\n",
    "This notebook contains the code samples found in Chapter 3, Section 6 of [Deep Learning with Python](https://www.manning.com/books/deep-learning-with-python?a_aid=keras&a_bid=76564dff). Note that the original text features far more content, in particular further explanations and figures: in this notebook, you will only find source code and related comments.\n",
    "\n",
    "----\n",
    "\n",
    "\n",
    "In all the examples we saw in the previous chapter -- movie review sentiment prediction, topic classification, and house price regression -- \n",
    "we could notice that the performance of our model on the held-out validation data would always peak after a few epochs and would then start \n",
    "degrading, i.e. our model would quickly start to _overfit_ to the training data. Overfitting happens in every single machine learning \n",
    "problem. Learning how to deal with overfitting is essential to mastering machine learning.\n",
    "\n",
    "The fundamental issue in machine learning is the tension between optimization and generalization. \"Optimization\" refers to the process of \n",
    "adjusting a model to get the best performance possible on the training data (the \"learning\" in \"machine learning\"), while \"generalization\" \n",
    "refers to how well the trained model would perform on data it has never seen before. The goal of the game is to get good generalization, of \n",
    "course, but you do not control generalization; you can only adjust the model based on its training data.\n",
    "\n",
    "At the beginning of training, optimization and generalization are correlated: the lower your loss on training data, the lower your loss on \n",
    "test data. While this is happening, your model is said to be _under-fit_: there is still progress to be made; the network hasn't yet \n",
    "modeled all relevant patterns in the training data. But after a certain number of iterations on the training data, generalization stops \n",
    "improving, validation metrics stall then start degrading: the model is then starting to over-fit, i.e. is it starting to learn patterns \n",
    "that are specific to the training data but that are misleading or irrelevant when it comes to new data.\n",
    "\n",
    "To prevent a model from learning misleading or irrelevant patterns found in the training data, _the best solution is of course to get \n",
    "more training data_. A model trained on more data will naturally generalize better. When that is no longer possible, the next best solution \n",
    "is to modulate the quantity of information that your model is allowed to store, or to add constraints on what information it is allowed to \n",
    "store. If a network can only afford to memorize a small number of patterns, the optimization process will force it to focus on the most \n",
    "prominent patterns, which have a better chance of generalizing well.\n",
    "\n",
    "The processing of fighting overfitting in this way is called _regularization_. Let's review some of the most common regularization \n",
    "techniques, and let's apply them in practice to improve our movie classification model from  the previous chapter."
   ]
  },
  {
   "cell_type": "markdown",
   "metadata": {},
   "source": [
    "Note: in this notebook we will be using the IMDB test set as our validation set. It doesn't matter in this context.\n",
    "\n",
    "Let's prepare the data using the code from Chapter 3, Section 5:"
   ]
  },
  {
   "cell_type": "code",
   "execution_count": 2,
   "metadata": {},
   "outputs": [
    {
     "name": "stdout",
     "output_type": "stream",
     "text": [
      "Downloading data from https://s3.amazonaws.com/text-datasets/imdb.npz\n",
      "17350656/17464789 [============================>.] - ETA: 0s"
     ]
    }
   ],
   "source": [
    "from keras.datasets import imdb\n",
    "import numpy as np\n",
    "\n",
    "(train_data, train_labels), (test_data, test_labels) = imdb.load_data(num_words=10000)\n",
    "\n",
    "def vectorize_sequences(sequences, dimension=10000):\n",
    "    # Create an all-zero matrix of shape (len(sequences), dimension)\n",
    "    results = np.zeros((len(sequences), dimension))\n",
    "    for i, sequence in enumerate(sequences):\n",
    "        results[i, sequence] = 1.  # set specific indices of results[i] to 1s\n",
    "    return results\n",
    "\n",
    "# Our vectorized training data\n",
    "x_train = vectorize_sequences(train_data)\n",
    "# Our vectorized test data\n",
    "x_test = vectorize_sequences(test_data)\n",
    "# Our vectorized labels\n",
    "y_train = np.asarray(train_labels).astype('float32')\n",
    "y_test = np.asarray(test_labels).astype('float32')"
   ]
  },
  {
   "cell_type": "markdown",
   "metadata": {},
   "source": [
    "# Fighting overfitting\n",
    "\n",
    "## Reducing the network's size\n",
    "\n",
    "\n",
    "The simplest way to prevent overfitting is to reduce the size of the model, i.e. the number of learnable parameters in the model (which is \n",
    "determined by the number of layers and the number of units per layer). In deep learning, the number of learnable parameters in a model is \n",
    "often referred to as the model's \"capacity\". Intuitively, a model with more parameters will have more \"memorization capacity\" and therefore \n",
    "will be able to easily learn a perfect dictionary-like mapping between training samples and their targets, a mapping without any \n",
    "generalization power. For instance, a model with 500,000 binary parameters could easily be made to learn the class of every digits in the \n",
    "MNIST training set: we would only need 10 binary parameters for each of the 50,000 digits. Such a model would be useless for classifying \n",
    "new digit samples. Always keep this in mind: deep learning models tend to be good at fitting to the training data, but the real challenge \n",
    "is generalization, not fitting.\n",
    "\n",
    "On the other hand, if the network has limited memorization resources, it will not be able to learn this mapping as easily, and thus, in \n",
    "order to minimize its loss, it will have to resort to learning compressed representations that have predictive power regarding the targets \n",
    "-- precisely the type of representations that we are interested in. At the same time, keep in mind that you should be using models that have \n",
    "enough parameters that they won't be underfitting: your model shouldn't be starved for memorization resources. There is a compromise to be \n",
    "found between \"too much capacity\" and \"not enough capacity\".\n",
    "\n",
    "Unfortunately, there is no magical formula to determine what the right number of layers is, or what the right size for each layer is. You \n",
    "will have to evaluate an array of different architectures (on your validation set, not on your test set, of course) in order to find the \n",
    "right model size for your data. The general workflow to find an appropriate model size is to start with relatively few layers and \n",
    "parameters, and start increasing the size of the layers or adding new layers until you see diminishing returns with regard to the \n",
    "validation loss.\n",
    "\n",
    "Let's try this on our movie review classification network. Our original network was as such:"
   ]
  },
  {
   "cell_type": "code",
   "execution_count": 3,
   "metadata": {},
   "outputs": [],
   "source": [
    "from keras import models\n",
    "from keras import layers\n",
    "\n",
    "original_model = models.Sequential()\n",
    "original_model.add(layers.Dense(16, activation='relu', input_shape=(10000,)))\n",
    "original_model.add(layers.Dense(16, activation='relu'))\n",
    "original_model.add(layers.Dense(1, activation='sigmoid'))\n",
    "\n",
    "original_model.compile(optimizer='rmsprop',\n",
    "                       loss='binary_crossentropy',\n",
    "                       metrics=['acc'])"
   ]
  },
  {
   "cell_type": "markdown",
   "metadata": {},
   "source": [
    "Now let's try to replace it with this smaller network:"
   ]
  },
  {
   "cell_type": "code",
   "execution_count": 4,
   "metadata": {},
   "outputs": [],
   "source": [
    "smaller_model = models.Sequential()\n",
    "smaller_model.add(layers.Dense(4, activation='relu', input_shape=(10000,)))\n",
    "smaller_model.add(layers.Dense(4, activation='relu'))\n",
    "smaller_model.add(layers.Dense(1, activation='sigmoid'))\n",
    "\n",
    "smaller_model.compile(optimizer='rmsprop',\n",
    "                      loss='binary_crossentropy',\n",
    "                      metrics=['acc'])"
   ]
  },
  {
   "cell_type": "markdown",
   "metadata": {},
   "source": [
    "\n",
    "Here's a comparison of the validation losses of the original network and the smaller network. The dots are the validation loss values of \n",
    "the smaller network, and the crosses are the initial network (remember: a lower validation loss signals a better model)."
   ]
  },
  {
   "cell_type": "code",
   "execution_count": 5,
   "metadata": {},
   "outputs": [
    {
     "name": "stdout",
     "output_type": "stream",
     "text": [
      "Train on 25000 samples, validate on 25000 samples\n",
      "Epoch 1/20\n",
      "25000/25000 [==============================] - 3s - loss: 0.4551 - acc: 0.8196 - val_loss: 0.3413 - val_acc: 0.8816\n",
      "Epoch 2/20\n",
      "25000/25000 [==============================] - 3s - loss: 0.2646 - acc: 0.9095 - val_loss: 0.2869 - val_acc: 0.8906\n",
      "Epoch 3/20\n",
      "25000/25000 [==============================] - 3s - loss: 0.2047 - acc: 0.9275 - val_loss: 0.2835 - val_acc: 0.8874\n",
      "Epoch 4/20\n",
      "25000/25000 [==============================] - 3s - loss: 0.1672 - acc: 0.9411 - val_loss: 0.2959 - val_acc: 0.8837\n",
      "Epoch 5/20\n",
      "25000/25000 [==============================] - 3s - loss: 0.1463 - acc: 0.9485 - val_loss: 0.3135 - val_acc: 0.8806\n",
      "Epoch 6/20\n",
      "25000/25000 [==============================] - 3s - loss: 0.1236 - acc: 0.9586 - val_loss: 0.3371 - val_acc: 0.8746\n",
      "Epoch 7/20\n",
      "25000/25000 [==============================] - 3s - loss: 0.1055 - acc: 0.9652 - val_loss: 0.3837 - val_acc: 0.8639\n",
      "Epoch 8/20\n",
      "25000/25000 [==============================] - 3s - loss: 0.0936 - acc: 0.9700 - val_loss: 0.3798 - val_acc: 0.8710\n",
      "Epoch 9/20\n",
      "25000/25000 [==============================] - 3s - loss: 0.0814 - acc: 0.9741 - val_loss: 0.4315 - val_acc: 0.8603\n",
      "Epoch 10/20\n",
      "25000/25000 [==============================] - 3s - loss: 0.0691 - acc: 0.9798 - val_loss: 0.4344 - val_acc: 0.8648\n",
      "Epoch 11/20\n",
      "25000/25000 [==============================] - 3s - loss: 0.0586 - acc: 0.9838 - val_loss: 0.4621 - val_acc: 0.8642\n",
      "Epoch 12/20\n",
      "25000/25000 [==============================] - 3s - loss: 0.0496 - acc: 0.9861 - val_loss: 0.5455 - val_acc: 0.8589\n",
      "Epoch 13/20\n",
      "25000/25000 [==============================] - 3s - loss: 0.0402 - acc: 0.9894 - val_loss: 0.5340 - val_acc: 0.8612\n",
      "Epoch 14/20\n",
      "25000/25000 [==============================] - 3s - loss: 0.0324 - acc: 0.9920 - val_loss: 0.5765 - val_acc: 0.8598\n",
      "Epoch 15/20\n",
      "25000/25000 [==============================] - 3s - loss: 0.0264 - acc: 0.9940 - val_loss: 0.6055 - val_acc: 0.8591\n",
      "Epoch 16/20\n",
      "25000/25000 [==============================] - 3s - loss: 0.0212 - acc: 0.9956 - val_loss: 0.6308 - val_acc: 0.8554\n",
      "Epoch 17/20\n",
      "25000/25000 [==============================] - 3s - loss: 0.0167 - acc: 0.9962 - val_loss: 0.6725 - val_acc: 0.8534\n",
      "Epoch 18/20\n",
      "25000/25000 [==============================] - 3s - loss: 0.0128 - acc: 0.9974 - val_loss: 0.7072 - val_acc: 0.8555\n",
      "Epoch 19/20\n",
      "25000/25000 [==============================] - 3s - loss: 0.0106 - acc: 0.9975 - val_loss: 0.7387 - val_acc: 0.8529\n",
      "Epoch 20/20\n",
      "25000/25000 [==============================] - 3s - loss: 0.0090 - acc: 0.9982 - val_loss: 0.7715 - val_acc: 0.8537\n"
     ]
    }
   ],
   "source": [
    "original_hist = original_model.fit(x_train, y_train,\n",
    "                                   epochs=20,\n",
    "                                   batch_size=512,\n",
    "                                   validation_data=(x_test, y_test))"
   ]
  },
  {
   "cell_type": "code",
   "execution_count": 6,
   "metadata": {},
   "outputs": [
    {
     "name": "stdout",
     "output_type": "stream",
     "text": [
      "Train on 25000 samples, validate on 25000 samples\n",
      "Epoch 1/20\n",
      "25000/25000 [==============================] - 3s - loss: 0.5737 - acc: 0.8049 - val_loss: 0.4826 - val_acc: 0.8616\n",
      "Epoch 2/20\n",
      "25000/25000 [==============================] - 3s - loss: 0.3973 - acc: 0.8866 - val_loss: 0.3699 - val_acc: 0.8776\n",
      "Epoch 3/20\n",
      "25000/25000 [==============================] - 3s - loss: 0.2985 - acc: 0.9054 - val_loss: 0.3140 - val_acc: 0.8860\n",
      "Epoch 4/20\n",
      "25000/25000 [==============================] - 3s - loss: 0.2428 - acc: 0.9189 - val_loss: 0.2913 - val_acc: 0.8870\n",
      "Epoch 5/20\n",
      "25000/25000 [==============================] - 3s - loss: 0.2085 - acc: 0.9290 - val_loss: 0.2809 - val_acc: 0.8897\n",
      "Epoch 6/20\n",
      "25000/25000 [==============================] - 3s - loss: 0.1849 - acc: 0.9360 - val_loss: 0.2772 - val_acc: 0.8899\n",
      "Epoch 7/20\n",
      "25000/25000 [==============================] - 3s - loss: 0.1666 - acc: 0.9430 - val_loss: 0.2835 - val_acc: 0.8863\n",
      "Epoch 8/20\n",
      "25000/25000 [==============================] - 3s - loss: 0.1515 - acc: 0.9487 - val_loss: 0.2909 - val_acc: 0.8850\n",
      "Epoch 9/20\n",
      "25000/25000 [==============================] - 3s - loss: 0.1388 - acc: 0.9526 - val_loss: 0.2984 - val_acc: 0.8842\n",
      "Epoch 10/20\n",
      "25000/25000 [==============================] - 3s - loss: 0.1285 - acc: 0.9569 - val_loss: 0.3102 - val_acc: 0.8818\n",
      "Epoch 11/20\n",
      "25000/25000 [==============================] - 3s - loss: 0.1194 - acc: 0.9599 - val_loss: 0.3219 - val_acc: 0.8794\n",
      "Epoch 12/20\n",
      "25000/25000 [==============================] - 3s - loss: 0.1105 - acc: 0.9648 - val_loss: 0.3379 - val_acc: 0.8774\n",
      "Epoch 13/20\n",
      "25000/25000 [==============================] - 3s - loss: 0.1035 - acc: 0.9674 - val_loss: 0.3532 - val_acc: 0.8730\n",
      "Epoch 14/20\n",
      "25000/25000 [==============================] - 3s - loss: 0.0963 - acc: 0.9688 - val_loss: 0.3651 - val_acc: 0.8731\n",
      "Epoch 15/20\n",
      "25000/25000 [==============================] - 3s - loss: 0.0895 - acc: 0.9724 - val_loss: 0.3858 - val_acc: 0.8703\n",
      "Epoch 16/20\n",
      "25000/25000 [==============================] - 3s - loss: 0.0838 - acc: 0.9734 - val_loss: 0.4157 - val_acc: 0.8654\n",
      "Epoch 17/20\n",
      "25000/25000 [==============================] - 3s - loss: 0.0785 - acc: 0.9764 - val_loss: 0.4214 - val_acc: 0.86770.976\n",
      "Epoch 18/20\n",
      "25000/25000 [==============================] - 3s - loss: 0.0733 - acc: 0.9784 - val_loss: 0.4390 - val_acc: 0.8644\n",
      "Epoch 19/20\n",
      "25000/25000 [==============================] - 3s - loss: 0.0685 - acc: 0.9796 - val_loss: 0.4539 - val_acc: 0.8638\n",
      "Epoch 20/20\n",
      "25000/25000 [==============================] - 3s - loss: 0.0638 - acc: 0.9822 - val_loss: 0.4744 - val_acc: 0.8617\n"
     ]
    }
   ],
   "source": [
    "smaller_model_hist = smaller_model.fit(x_train, y_train,\n",
    "                                       epochs=20,\n",
    "                                       batch_size=512,\n",
    "                                       validation_data=(x_test, y_test))"
   ]
  },
  {
   "cell_type": "code",
   "execution_count": 7,
   "metadata": {},
   "outputs": [],
   "source": [
    "epochs = range(1, 21)\n",
    "original_val_loss = original_hist.history['val_loss']\n",
    "smaller_model_val_loss = smaller_model_hist.history['val_loss']"
   ]
  },
  {
   "cell_type": "code",
   "execution_count": 8,
   "metadata": {},
   "outputs": [
    {
     "data": {
      "image/png": "[encoded data removed]",
      "text/plain": [
       "<matplotlib.figure.Figure at 0x7ff142e576a0>"
      ]
     },
     "metadata": {},
     "output_type": "display_data"
    }
   ],
   "source": [
    "import matplotlib.pyplot as plt\n",
    "\n",
    "# b+ is for \"blue cross\"\n",
    "plt.plot(epochs, original_val_loss, 'b+', label='Original model')\n",
    "# \"bo\" is for \"blue dot\"\n",
    "plt.plot(epochs, smaller_model_val_loss, 'bo', label='Smaller model')\n",
    "plt.xlabel('Epochs')\n",
    "plt.ylabel('Validation loss')\n",
    "plt.legend()\n",
    "\n",
    "plt.show()"
   ]
  },
  {
   "cell_type": "markdown",
   "metadata": {},
   "source": [
    "\n",
    "As you can see, the smaller network starts overfitting later than the reference one (after 6 epochs rather than 4) and its performance \n",
    "degrades much more slowly once it starts overfitting.\n",
    "\n",
    "Now, for kicks, let's add to this benchmark a network that has much more capacity, far more than the problem would warrant:"
   ]
  },
  {
   "cell_type": "code",
   "execution_count": 9,
   "metadata": {},
   "outputs": [],
   "source": [
    "bigger_model = models.Sequential()\n",
    "bigger_model.add(layers.Dense(512, activation='relu', input_shape=(10000,)))\n",
    "bigger_model.add(layers.Dense(512, activation='relu'))\n",
    "bigger_model.add(layers.Dense(1, activation='sigmoid'))\n",
    "\n",
    "bigger_model.compile(optimizer='rmsprop',\n",
    "                     loss='binary_crossentropy',\n",
    "                     metrics=['acc'])"
   ]
  },
  {
   "cell_type": "code",
   "execution_count": 10,
   "metadata": {},
   "outputs": [
    {
     "name": "stdout",
     "output_type": "stream",
     "text": [
      "Train on 25000 samples, validate on 25000 samples\n",
      "Epoch 1/20\n",
      "25000/25000 [==============================] - 3s - loss: 0.4550 - acc: 0.7944 - val_loss: 0.3653 - val_acc: 0.8388\n",
      "Epoch 2/20\n",
      "25000/25000 [==============================] - 3s - loss: 0.2153 - acc: 0.9132 - val_loss: 0.3868 - val_acc: 0.8469\n",
      "Epoch 3/20\n",
      "25000/25000 [==============================] - 3s - loss: 0.1158 - acc: 0.9560 - val_loss: 0.4579 - val_acc: 0.8503\n",
      "Epoch 4/20\n",
      "25000/25000 [==============================] - 3s - loss: 0.0673 - acc: 0.9818 - val_loss: 0.5199 - val_acc: 0.8645\n",
      "Epoch 5/20\n",
      "25000/25000 [==============================] - 3s - loss: 0.0803 - acc: 0.9876 - val_loss: 0.5059 - val_acc: 0.8814\n",
      "Epoch 6/20\n",
      "25000/25000 [==============================] - 3s - loss: 0.0017 - acc: 0.9998 - val_loss: 0.7108 - val_acc: 0.8806\n",
      "Epoch 7/20\n",
      "25000/25000 [==============================] - 3s - loss: 0.0884 - acc: 0.9875 - val_loss: 0.6449 - val_acc: 0.8800\n",
      "Epoch 8/20\n",
      "25000/25000 [==============================] - 3s - loss: 0.0622 - acc: 0.9910 - val_loss: 0.8605 - val_acc: 0.8384\n",
      "Epoch 9/20\n",
      "25000/25000 [==============================] - 3s - loss: 9.8803e-04 - acc: 0.9999 - val_loss: 0.7593 - val_acc: 0.8808\n",
      "Epoch 10/20\n",
      "25000/25000 [==============================] - 3s - loss: 0.0021 - acc: 0.9995 - val_loss: 4.7174 - val_acc: 0.5910\n",
      "Epoch 11/20\n",
      "25000/25000 [==============================] - 3s - loss: 0.0707 - acc: 0.9918 - val_loss: 0.7908 - val_acc: 0.8779\n",
      "Epoch 12/20\n",
      "25000/25000 [==============================] - 3s - loss: 4.8701e-05 - acc: 1.0000 - val_loss: 0.8978 - val_acc: 0.8778\n",
      "Epoch 13/20\n",
      "25000/25000 [==============================] - 3s - loss: 0.0735 - acc: 0.9902 - val_loss: 0.8427 - val_acc: 0.8759\n",
      "Epoch 14/20\n",
      "25000/25000 [==============================] - 3s - loss: 6.3866e-05 - acc: 1.0000 - val_loss: 0.8993 - val_acc: 0.8757\n",
      "Epoch 15/20\n",
      "25000/25000 [==============================] - 3s - loss: 0.0023 - acc: 0.9995 - val_loss: 4.3981 - val_acc: 0.6230\n",
      "Epoch 16/20\n",
      "25000/25000 [==============================] - 3s - loss: 0.0979 - acc: 0.9878 - val_loss: 0.9833 - val_acc: 0.8546\n",
      "Epoch 17/20\n",
      "25000/25000 [==============================] - 3s - loss: 0.0261 - acc: 0.9956 - val_loss: 0.7757 - val_acc: 0.8669\n",
      "Epoch 18/20\n",
      "25000/25000 [==============================] - 3s - loss: 4.5324e-04 - acc: 0.9999 - val_loss: 0.8349 - val_acc: 0.8711\n",
      "Epoch 19/20\n",
      "25000/25000 [==============================] - 3s - loss: 0.0338 - acc: 0.9943 - val_loss: 0.8018 - val_acc: 0.8727\n",
      "Epoch 20/20\n",
      "25000/25000 [==============================] - 3s - loss: 1.1176e-04 - acc: 1.0000 - val_loss: 0.9375 - val_acc: 0.8696\n"
     ]
    }
   ],
   "source": [
    "bigger_model_hist = bigger_model.fit(x_train, y_train,\n",
    "                                     epochs=20,\n",
    "                                     batch_size=512,\n",
    "                                     validation_data=(x_test, y_test))"
   ]
  },
  {
   "cell_type": "markdown",
   "metadata": {},
   "source": [
    "Here's how the bigger network fares compared to the reference one. The dots are the validation loss values of the bigger network, and the \n",
    "crosses are the initial network."
   ]
  },
  {
   "cell_type": "code",
   "execution_count": 11,
   "metadata": {},
   "outputs": [
    {
     "data": {
      "image/png": "[encoded data removed]",
      "text/plain": [
       "<matplotlib.figure.Figure at 0x7ff04455db00>"
      ]
     },
     "metadata": {},
     "output_type": "display_data"
    }
   ],
   "source": [
    "bigger_model_val_loss = bigger_model_hist.history['val_loss']\n",
    "\n",
    "plt.plot(epochs, original_val_loss, 'b+', label='Original model')\n",
    "plt.plot(epochs, bigger_model_val_loss, 'bo', label='Bigger model')\n",
    "plt.xlabel('Epochs')\n",
    "plt.ylabel('Validation loss')\n",
    "plt.legend()\n",
    "\n",
    "plt.show()"
   ]
  },
  {
   "cell_type": "markdown",
   "metadata": {},
   "source": [
    "\n",
    "The bigger network starts overfitting almost right away, after just one epoch, and overfits much more severely. Its validation loss is also \n",
    "more noisy.\n",
    "\n",
    "Meanwhile, here are the training losses for our two networks:"
   ]
  },
  {
   "cell_type": "code",
   "execution_count": 12,
   "metadata": {},
   "outputs": [
    {
     "data": {
      "image/png": "[encoded data removed]",
      "text/plain": [
       "<matplotlib.figure.Figure at 0x7ff04448a438>"
      ]
     },
     "metadata": {},
     "output_type": "display_data"
    }
   ],
   "source": [
    "original_train_loss = original_hist.history['loss']\n",
    "bigger_model_train_loss = bigger_model_hist.history['loss']\n",
    "\n",
    "plt.plot(epochs, original_train_loss, 'b+', label='Original model')\n",
    "plt.plot(epochs, bigger_model_train_loss, 'bo', label='Bigger model')\n",
    "plt.xlabel('Epochs')\n",
    "plt.ylabel('Training loss')\n",
    "plt.legend()\n",
    "\n",
    "plt.show()"
   ]
  },
  {
   "cell_type": "markdown",
   "metadata": {},
   "source": [
    "As you can see, the bigger network gets its training loss near zero very quickly. The more capacity the network has, the quicker it will be \n",
    "able to model the training data (resulting in a low training loss), but the more susceptible it is to overfitting (resulting in a large \n",
    "difference between the training and validation loss)."
   ]
  },
  {
   "cell_type": "markdown",
   "metadata": {},
   "source": [
    "## Adding weight regularization\n",
    "\n",
    "\n",
    "You may be familiar with _Occam's Razor_ principle: given two explanations for something, the explanation most likely to be correct is the \n",
    "\"simplest\" one, the one that makes the least amount of assumptions. This also applies to the models learned by neural networks: given some \n",
    "training data and a network architecture, there are multiple sets of weights values (multiple _models_) that could explain the data, and \n",
    "simpler models are less likely to overfit than complex ones.\n",
    "\n",
    "A \"simple model\" in this context is a model where the distribution of parameter values has less entropy (or a model with fewer \n",
    "parameters altogether, as we saw in the section above). Thus a common way to mitigate overfitting is to put constraints on the complexity \n",
    "of a network by forcing its weights to only take small values, which makes the distribution of weight values more \"regular\". This is called \n",
    "\"weight regularization\", and it is done by adding to the loss function of the network a _cost_ associated with having large weights. This \n",
    "cost comes in two flavors:\n",
    "\n",
    "* L1 regularization, where the cost added is proportional to the _absolute value of the weights coefficients_ (i.e. to what is called the \n",
    "\"L1 norm\" of the weights).\n",
    "* L2 regularization, where the cost added is proportional to the _square of the value of the weights coefficients_ (i.e. to what is called \n",
    "the \"L2 norm\" of the weights). L2 regularization is also called _weight decay_ in the context of neural networks. Don't let the different \n",
    "name confuse you: weight decay is mathematically the exact same as L2 regularization.\n",
    "\n",
    "In Keras, weight regularization is added by passing _weight regularizer instances_ to layers as keyword arguments. Let's add L2 weight \n",
    "regularization to our movie review classification network:"
   ]
  },
  {
   "cell_type": "code",
   "execution_count": 13,
   "metadata": {},
   "outputs": [],
   "source": [
    "from keras import regularizers\n",
    "\n",
    "l2_model = models.Sequential()\n",
    "l2_model.add(layers.Dense(16, kernel_regularizer=regularizers.l2(0.001),\n",
    "                          activation='relu', input_shape=(10000,)))\n",
    "l2_model.add(layers.Dense(16, kernel_regularizer=regularizers.l2(0.001),\n",
    "                          activation='relu'))\n",
    "l2_model.add(layers.Dense(1, activation='sigmoid'))"
   ]
  },
  {
   "cell_type": "code",
   "execution_count": 14,
   "metadata": {},
   "outputs": [],
   "source": [
    "l2_model.compile(optimizer='rmsprop',\n",
    "                 loss='binary_crossentropy',\n",
    "                 metrics=['acc'])"
   ]
  },
  {
   "cell_type": "markdown",
   "metadata": {},
   "source": [
    "`l2(0.001)` means that every coefficient in the weight matrix of the layer will add `0.001 * weight_coefficient_value` to the total loss of \n",
    "the network. Note that because this penalty is _only added at training time_, the loss for this network will be much higher at training \n",
    "than at test time.\n",
    "\n",
    "Here's the impact of our L2 regularization penalty:"
   ]
  },
  {
   "cell_type": "code",
   "execution_count": 15,
   "metadata": {},
   "outputs": [
    {
     "name": "stdout",
     "output_type": "stream",
     "text": [
      "Train on 25000 samples, validate on 25000 samples\n",
      "Epoch 1/20\n",
      "25000/25000 [==============================] - 3s - loss: 0.4807 - acc: 0.8271 - val_loss: 0.3787 - val_acc: 0.8815\n",
      "Epoch 2/20\n",
      "25000/25000 [==============================] - 3s - loss: 0.3150 - acc: 0.9064 - val_loss: 0.3350 - val_acc: 0.8898\n",
      "Epoch 3/20\n",
      "25000/25000 [==============================] - 3s - loss: 0.2741 - acc: 0.9186 - val_loss: 0.3310 - val_acc: 0.8898\n",
      "Epoch 4/20\n",
      "25000/25000 [==============================] - 3s - loss: 0.2518 - acc: 0.9274 - val_loss: 0.3367 - val_acc: 0.8870\n",
      "Epoch 5/20\n",
      "25000/25000 [==============================] - 3s - loss: 0.2410 - acc: 0.9329 - val_loss: 0.3480 - val_acc: 0.8818\n",
      "Epoch 6/20\n",
      "25000/25000 [==============================] - 3s - loss: 0.2329 - acc: 0.9366 - val_loss: 0.3565 - val_acc: 0.8789\n",
      "Epoch 7/20\n",
      "25000/25000 [==============================] - 3s - loss: 0.2259 - acc: 0.9391 - val_loss: 0.3649 - val_acc: 0.8783\n",
      "Epoch 8/20\n",
      "25000/25000 [==============================] - 3s - loss: 0.2223 - acc: 0.9384 - val_loss: 0.3639 - val_acc: 0.8788\n",
      "Epoch 9/20\n",
      "25000/25000 [==============================] - 3s - loss: 0.2163 - acc: 0.9428 - val_loss: 0.3711 - val_acc: 0.8769\n",
      "Epoch 10/20\n",
      "25000/25000 [==============================] - 3s - loss: 0.2137 - acc: 0.9441 - val_loss: 0.4172 - val_acc: 0.8634\n",
      "Epoch 11/20\n",
      "25000/25000 [==============================] - 3s - loss: 0.2101 - acc: 0.9442 - val_loss: 0.3921 - val_acc: 0.8720\n",
      "Epoch 12/20\n",
      "25000/25000 [==============================] - 3s - loss: 0.2065 - acc: 0.9450 - val_loss: 0.3896 - val_acc: 0.8734\n",
      "Epoch 13/20\n",
      "25000/25000 [==============================] - 3s - loss: 0.2070 - acc: 0.9447 - val_loss: 0.4018 - val_acc: 0.8722\n",
      "Epoch 14/20\n",
      "25000/25000 [==============================] - 3s - loss: 0.2016 - acc: 0.9489 - val_loss: 0.4027 - val_acc: 0.8700\n",
      "Epoch 15/20\n",
      "25000/25000 [==============================] - 3s - loss: 0.1986 - acc: 0.9480 - val_loss: 0.4338 - val_acc: 0.8677\n",
      "Epoch 16/20\n",
      "25000/25000 [==============================] - 3s - loss: 0.2018 - acc: 0.9464 - val_loss: 0.4112 - val_acc: 0.8716\n",
      "Epoch 17/20\n",
      "25000/25000 [==============================] - 3s - loss: 0.1947 - acc: 0.9503 - val_loss: 0.4210 - val_acc: 0.8695\n",
      "Epoch 18/20\n",
      "25000/25000 [==============================] - 3s - loss: 0.1933 - acc: 0.9518 - val_loss: 0.4454 - val_acc: 0.8659\n",
      "Epoch 19/20\n",
      "25000/25000 [==============================] - 3s - loss: 0.1928 - acc: 0.9496 - val_loss: 0.4178 - val_acc: 0.8698\n",
      "Epoch 20/20\n",
      "25000/25000 [==============================] - 3s - loss: 0.1909 - acc: 0.9509 - val_loss: 0.4286 - val_acc: 0.8704\n"
     ]
    }
   ],
   "source": [
    "l2_model_hist = l2_model.fit(x_train, y_train,\n",
    "                             epochs=20,\n",
    "                             batch_size=512,\n",
    "                             validation_data=(x_test, y_test))"
   ]
  },
  {
   "cell_type": "code",
   "execution_count": 16,
   "metadata": {},
   "outputs": [
    {
     "data": {
      "image/png": "[encoded data removed]",
      "text/plain": [
       "<matplotlib.figure.Figure at 0x7ff13e048940>"
      ]
     },
     "metadata": {},
     "output_type": "display_data"
    }
   ],
   "source": [
    "l2_model_val_loss = l2_model_hist.history['val_loss']\n",
    "\n",
    "plt.plot(epochs, original_val_loss, 'b+', label='Original model')\n",
    "plt.plot(epochs, l2_model_val_loss, 'bo', label='L2-regularized model')\n",
    "plt.xlabel('Epochs')\n",
    "plt.ylabel('Validation loss')\n",
    "plt.legend()\n",
    "\n",
    "plt.show()"
   ]
  },
  {
   "cell_type": "markdown",
   "metadata": {},
   "source": [
    "\n",
    "\n",
    "As you can see, the model with L2 regularization (dots) has become much more resistant to overfitting than the reference model (crosses), \n",
    "even though both models have the same number of parameters.\n",
    "\n",
    "As alternatives to L2 regularization, you could use one of the following Keras weight regularizers:"
   ]
  },
  {
   "cell_type": "code",
   "execution_count": 17,
   "metadata": {},
   "outputs": [
    {
     "data": {
      "text/plain": [
       "<keras.regularizers.L1L2 at 0x7ff04455d4a8>"
      ]
     },
     "execution_count": 17,
     "metadata": {},
     "output_type": "execute_result"
    }
   ],
   "source": [
    "from keras import regularizers\n",
    "\n",
    "# L1 regularization\n",
    "regularizers.l1(0.001)\n",
    "\n",
    "# L1 and L2 regularization at the same time\n",
    "regularizers.l1_l2(l1=0.001, l2=0.001)"
   ]
  },
  {
   "cell_type": "markdown",
   "metadata": {},
   "source": [
    "## Adding dropout\n",
    "\n",
    "\n",
    "Dropout is one of the most effective and most commonly used regularization techniques for neural networks, developed by Hinton and his \n",
    "students at the University of Toronto. Dropout, applied to a layer, consists of randomly \"dropping out\" (i.e. setting to zero) a number of \n",
    "output features of the layer during training. Let's say a given layer would normally have returned a vector `[0.2, 0.5, 1.3, 0.8, 1.1]` for a \n",
    "given input sample during training; after applying dropout, this vector will have a few zero entries distributed at random, e.g. `[0, 0.5, \n",
    "1.3, 0, 1.1]`. The \"dropout rate\" is the fraction of the features that are being zeroed-out; it is usually set between 0.2 and 0.5. At test \n",
    "time, no units are dropped out, and instead the layer's output values are scaled down by a factor equal to the dropout rate, so as to \n",
    "balance for the fact that more units are active than at training time.\n",
    "\n",
    "Consider a Numpy matrix containing the output of a layer, `layer_output`, of shape `(batch_size, features)`. At training time, we would be \n",
    "zero-ing out at random a fraction of the values in the matrix:"
   ]
  },
  {
   "cell_type": "markdown",
   "metadata": {
    "collapsed": true
   },
   "source": [
    "#### At training time: we drop out 50% of the units in the output\n",
    "\n",
    "> layer_output *= np.randint(0, high=2, size=layer_output.shape)"
   ]
  },
  {
   "cell_type": "markdown",
   "metadata": {},
   "source": [
    "\n",
    "At test time, we would be scaling the output down by the dropout rate. Here we scale by 0.5 (because we were previous dropping half the \n",
    "units):"
   ]
  },
  {
   "cell_type": "markdown",
   "metadata": {
    "collapsed": true
   },
   "source": [
    "#### At test time:\n",
    "\n",
    "> layer_output *= 0.5"
   ]
  },
  {
   "cell_type": "markdown",
   "metadata": {},
   "source": [
    "\n",
    "Note that this process can be implemented by doing both operations at training time and leaving the output unchanged at test time, which is \n",
    "often the way it is implemented in practice:"
   ]
  },
  {
   "cell_type": "markdown",
   "metadata": {
    "collapsed": true
   },
   "source": [
    "#### At training time:\n",
    "\n",
    "```python\n",
    "> layer_output *= np.randint(0, high=2, size=layer_output.shape)\n",
    "#Note that we are scaling *up* rather scaling *down* in this case\n",
    "\n",
    "> layer_output /= 0.5\n",
    "```"
   ]
  },
  {
   "cell_type": "markdown",
   "metadata": {},
   "source": [
    "\n",
    "This technique may seem strange and arbitrary. Why would this help reduce overfitting? Geoff Hinton has said that he was inspired, among \n",
    "other things, by a fraud prevention mechanism used by banks -- in his own words: _\"I went to my bank. The tellers kept changing and I asked \n",
    "one of them why. He said he didn’t know but they got moved around a lot. I figured it must be because it would require cooperation \n",
    "between employees to successfully defraud the bank. This made me realize that randomly removing a different subset of neurons on each \n",
    "example would prevent conspiracies and thus reduce overfitting\"_.\n",
    "\n",
    "The core idea is that introducing noise in the output values of a layer can break up happenstance patterns that are not significant (what \n",
    "Hinton refers to as \"conspiracies\"), which the network would start memorizing if no noise was present. \n",
    "\n",
    "In Keras you can introduce dropout in a network via the `Dropout` layer, which gets applied to the output of layer right before it, e.g.:"
   ]
  },
  {
   "cell_type": "markdown",
   "metadata": {
    "collapsed": true
   },
   "source": [
    "```python\n",
    "model.add(layers.Dropout(0.5))\n",
    "```"
   ]
  },
  {
   "cell_type": "markdown",
   "metadata": {},
   "source": [
    "Let's add two `Dropout` layers in our IMDB network to see how well they do at reducing overfitting:"
   ]
  },
  {
   "cell_type": "code",
   "execution_count": 19,
   "metadata": {},
   "outputs": [],
   "source": [
    "dpt_model = models.Sequential()\n",
    "dpt_model.add(layers.Dense(16, activation='relu', input_shape=(10000,)))\n",
    "dpt_model.add(layers.Dropout(0.5))\n",
    "dpt_model.add(layers.Dense(16, activation='relu'))\n",
    "dpt_model.add(layers.Dropout(0.5))\n",
    "dpt_model.add(layers.Dense(1, activation='sigmoid'))\n",
    "\n",
    "dpt_model.compile(optimizer='rmsprop',\n",
    "                  loss='binary_crossentropy',\n",
    "                  metrics=['acc'])"
   ]
  },
  {
   "cell_type": "code",
   "execution_count": 20,
   "metadata": {},
   "outputs": [
    {
     "name": "stdout",
     "output_type": "stream",
     "text": [
      "Train on 25000 samples, validate on 25000 samples\n",
      "Epoch 1/20\n",
      "25000/25000 [==============================] - 3s - loss: 0.5982 - acc: 0.6751 - val_loss: 0.4552 - val_acc: 0.8656\n",
      "Epoch 2/20\n",
      "25000/25000 [==============================] - 3s - loss: 0.4562 - acc: 0.8033 - val_loss: 0.3582 - val_acc: 0.8738\n",
      "Epoch 3/20\n",
      "25000/25000 [==============================] - 3s - loss: 0.3696 - acc: 0.8579 - val_loss: 0.2955 - val_acc: 0.8886\n",
      "Epoch 4/20\n",
      "25000/25000 [==============================] - 3s - loss: 0.3131 - acc: 0.8887 - val_loss: 0.2770 - val_acc: 0.8904\n",
      "Epoch 5/20\n",
      "25000/25000 [==============================] - 3s - loss: 0.2728 - acc: 0.9065 - val_loss: 0.2765 - val_acc: 0.8892\n",
      "Epoch 6/20\n",
      "25000/25000 [==============================] - 3s - loss: 0.2428 - acc: 0.9198 - val_loss: 0.2851 - val_acc: 0.8877\n",
      "Epoch 7/20\n",
      "25000/25000 [==============================] - 3s - loss: 0.2151 - acc: 0.9286 - val_loss: 0.2980 - val_acc: 0.8861\n",
      "Epoch 8/20\n",
      "25000/25000 [==============================] - 3s - loss: 0.1972 - acc: 0.9368 - val_loss: 0.3143 - val_acc: 0.8859\n",
      "Epoch 9/20\n",
      "25000/25000 [==============================] - 3s - loss: 0.1810 - acc: 0.9425 - val_loss: 0.3355 - val_acc: 0.8846\n",
      "Epoch 10/20\n",
      "25000/25000 [==============================] - 3s - loss: 0.1672 - acc: 0.9461 - val_loss: 0.3553 - val_acc: 0.8822\n",
      "Epoch 11/20\n",
      "25000/25000 [==============================] - 3s - loss: 0.1591 - acc: 0.9493 - val_loss: 0.3784 - val_acc: 0.8817\n",
      "Epoch 12/20\n",
      "25000/25000 [==============================] - 3s - loss: 0.1487 - acc: 0.9526 - val_loss: 0.4122 - val_acc: 0.8795\n",
      "Epoch 13/20\n",
      "25000/25000 [==============================] - 3s - loss: 0.1396 - acc: 0.9549 - val_loss: 0.4110 - val_acc: 0.8784\n",
      "Epoch 14/20\n",
      "25000/25000 [==============================] - 3s - loss: 0.1333 - acc: 0.9573 - val_loss: 0.4568 - val_acc: 0.8795\n",
      "Epoch 15/20\n",
      "25000/25000 [==============================] - 3s - loss: 0.1267 - acc: 0.9581 - val_loss: 0.4631 - val_acc: 0.8793\n",
      "Epoch 16/20\n",
      "25000/25000 [==============================] - 3s - loss: 0.1212 - acc: 0.9594 - val_loss: 0.4864 - val_acc: 0.8787\n",
      "Epoch 17/20\n",
      "25000/25000 [==============================] - 3s - loss: 0.1214 - acc: 0.9601 - val_loss: 0.4849 - val_acc: 0.8761\n",
      "Epoch 18/20\n",
      "25000/25000 [==============================] - 3s - loss: 0.1210 - acc: 0.9618 - val_loss: 0.5065 - val_acc: 0.8747\n",
      "Epoch 19/20\n",
      "25000/25000 [==============================] - 3s - loss: 0.1142 - acc: 0.9629 - val_loss: 0.5364 - val_acc: 0.8740\n",
      "Epoch 20/20\n",
      "25000/25000 [==============================] - 3s - loss: 0.1169 - acc: 0.9617 - val_loss: 0.5383 - val_acc: 0.8745\n"
     ]
    }
   ],
   "source": [
    "dpt_model_hist = dpt_model.fit(x_train, y_train,\n",
    "                               epochs=20,\n",
    "                               batch_size=512,\n",
    "                               validation_data=(x_test, y_test))"
   ]
  },
  {
   "cell_type": "markdown",
   "metadata": {},
   "source": [
    "Let's plot the results:"
   ]
  },
  {
   "cell_type": "code",
   "execution_count": 21,
   "metadata": {},
   "outputs": [
    {
     "data": {
      "image/png": "[encoded data removed]",
      "text/plain": [
       "<matplotlib.figure.Figure at 0x7ff00bd6a550>"
      ]
     },
     "metadata": {},
     "output_type": "display_data"
    }
   ],
   "source": [
    "dpt_model_val_loss = dpt_model_hist.history['val_loss']\n",
    "\n",
    "plt.plot(epochs, original_val_loss, 'b+', label='Original model')\n",
    "plt.plot(epochs, dpt_model_val_loss, 'bo', label='Dropout-regularized model')\n",
    "plt.xlabel('Epochs')\n",
    "plt.ylabel('Validation loss')\n",
    "plt.legend()\n",
    "\n",
    "plt.show()"
   ]
  },
  {
   "cell_type": "markdown",
   "metadata": {},
   "source": [
    "\n",
    "Again, a clear improvement over the reference network.\n",
    "\n",
    "To recap: here the most common ways to prevent overfitting in neural networks:\n",
    "\n",
    "* Getting more training data.\n",
    "* Reducing the capacity of the network.\n",
    "* Adding weight regularization.\n",
    "* Adding dropout."
   ]
  }
 ],
 "metadata": {
  "kernelspec": {
   "display_name": "Python 3",
   "language": "python",
   "name": "python3"
  },
  "language_info": {
   "codemirror_mode": {
    "name": "ipython",
    "version": 3
   },
   "file_extension": ".py",
   "mimetype": "text/x-python",
   "name": "python",
   "nbconvert_exporter": "python",
   "pygments_lexer": "ipython3",
   "version": "3.6.2"
  }
 },
 "nbformat": 4,
 "nbformat_minor": 2
}
